{
 "cells": [
  {
   "cell_type": "code",
   "execution_count": 53,
   "id": "f0c13bc9-4adf-499b-bf76-beb3676977f9",
   "metadata": {},
   "outputs": [],
   "source": [
    "import pandas as pd\n",
    "import numpy as np\n",
    "import os\n",
    "location='dataset'\n"
   ]
  },
  {
   "cell_type": "code",
   "execution_count": 54,
   "id": "cefb33d4-a669-494b-a522-5b5f39494526",
   "metadata": {},
   "outputs": [],
   "source": [
    "files = [file for file in os.listdir (location) if file.endswith('.csv')]"
   ]
  },
  {
   "cell_type": "code",
   "execution_count": 55,
   "id": "71416c25-f96b-43cf-b39e-201dcc934b6b",
   "metadata": {},
   "outputs": [
    {
     "data": {
      "text/plain": [
       "['0.4 Wc+10% Silica.csv',\n",
       " '0.4Wc+ 10% GGBS.csv',\n",
       " '0.35 Nominal.csv',\n",
       " '0.45 Nominal.csv',\n",
       " '0.4 Nominal.csv',\n",
       " '0.4Wc+10% Fly Ash.csv',\n",
       " '0.3 Nominal.csv']"
      ]
     },
     "execution_count": 55,
     "metadata": {},
     "output_type": "execute_result"
    }
   ],
   "source": [
    "files"
   ]
  },
  {
   "cell_type": "code",
   "execution_count": 56,
   "id": "a55447ac-b32d-4bc5-b03b-a822b3e22a63",
   "metadata": {},
   "outputs": [],
   "source": [
    "df_list = [pd.read_csv(os.path.join(location, file)) for file in files]"
   ]
  },
  {
   "cell_type": "code",
   "execution_count": 57,
   "id": "a7df56c0-fd4a-4b0c-adf5-529161495e99",
   "metadata": {},
   "outputs": [],
   "source": [
    "df_final = pd.concat(df_list, ignore_index=True)"
   ]
  },
  {
   "cell_type": "code",
   "execution_count": 58,
   "id": "3af72121-33ed-43f6-9373-2f13650ddbb0",
   "metadata": {},
   "outputs": [],
   "source": [
    "df_final.drop(columns=['date', 'time'], inplace=True)"
   ]
  },
  {
   "cell_type": "code",
   "execution_count": 59,
   "id": "632297d6-5b96-4f55-960a-9ebcc12a9838",
   "metadata": {},
   "outputs": [],
   "source": [
    "df_final_dummies = pd.get_dummies(df_final, columns=['Sample'], drop_first=True)"
   ]
  },
  {
   "cell_type": "code",
   "execution_count": 62,
   "id": "06e92fa7-e8c3-4ab0-95b5-889cae6fd81e",
   "metadata": {},
   "outputs": [
    {
     "data": {
      "text/html": [
       "<div>\n",
       "<style scoped>\n",
       "    .dataframe tbody tr th:only-of-type {\n",
       "        vertical-align: middle;\n",
       "    }\n",
       "\n",
       "    .dataframe tbody tr th {\n",
       "        vertical-align: top;\n",
       "    }\n",
       "\n",
       "    .dataframe thead th {\n",
       "        text-align: right;\n",
       "    }\n",
       "</style>\n",
       "<table border=\"1\" class=\"dataframe\">\n",
       "  <thead>\n",
       "    <tr style=\"text-align: right;\">\n",
       "      <th></th>\n",
       "      <th>temp</th>\n",
       "      <th>Ambient</th>\n",
       "      <th>Sample_0.35 Nominal</th>\n",
       "      <th>Sample_0.4 Nominal</th>\n",
       "      <th>Sample_0.4 Wc+10% Silica</th>\n",
       "      <th>Sample_0.45 Nominal</th>\n",
       "      <th>Sample_0.4Wc+ 10% GGBS</th>\n",
       "      <th>Sample_0.4Wc+10% Fly Ash</th>\n",
       "      <th>strength</th>\n",
       "    </tr>\n",
       "  </thead>\n",
       "  <tbody>\n",
       "    <tr>\n",
       "      <th>0</th>\n",
       "      <td>29.94</td>\n",
       "      <td>25.00</td>\n",
       "      <td>False</td>\n",
       "      <td>False</td>\n",
       "      <td>True</td>\n",
       "      <td>False</td>\n",
       "      <td>False</td>\n",
       "      <td>False</td>\n",
       "      <td>0</td>\n",
       "    </tr>\n",
       "    <tr>\n",
       "      <th>1</th>\n",
       "      <td>29.94</td>\n",
       "      <td>27.63</td>\n",
       "      <td>False</td>\n",
       "      <td>False</td>\n",
       "      <td>True</td>\n",
       "      <td>False</td>\n",
       "      <td>False</td>\n",
       "      <td>False</td>\n",
       "      <td>0</td>\n",
       "    </tr>\n",
       "    <tr>\n",
       "      <th>2</th>\n",
       "      <td>30.00</td>\n",
       "      <td>27.69</td>\n",
       "      <td>False</td>\n",
       "      <td>False</td>\n",
       "      <td>True</td>\n",
       "      <td>False</td>\n",
       "      <td>False</td>\n",
       "      <td>False</td>\n",
       "      <td>0</td>\n",
       "    </tr>\n",
       "    <tr>\n",
       "      <th>3</th>\n",
       "      <td>30.00</td>\n",
       "      <td>27.75</td>\n",
       "      <td>False</td>\n",
       "      <td>False</td>\n",
       "      <td>True</td>\n",
       "      <td>False</td>\n",
       "      <td>False</td>\n",
       "      <td>False</td>\n",
       "      <td>0</td>\n",
       "    </tr>\n",
       "    <tr>\n",
       "      <th>4</th>\n",
       "      <td>30.00</td>\n",
       "      <td>27.81</td>\n",
       "      <td>False</td>\n",
       "      <td>False</td>\n",
       "      <td>True</td>\n",
       "      <td>False</td>\n",
       "      <td>False</td>\n",
       "      <td>False</td>\n",
       "      <td>0</td>\n",
       "    </tr>\n",
       "    <tr>\n",
       "      <th>...</th>\n",
       "      <td>...</td>\n",
       "      <td>...</td>\n",
       "      <td>...</td>\n",
       "      <td>...</td>\n",
       "      <td>...</td>\n",
       "      <td>...</td>\n",
       "      <td>...</td>\n",
       "      <td>...</td>\n",
       "      <td>...</td>\n",
       "    </tr>\n",
       "    <tr>\n",
       "      <th>460335</th>\n",
       "      <td>28.81</td>\n",
       "      <td>32.56</td>\n",
       "      <td>False</td>\n",
       "      <td>False</td>\n",
       "      <td>False</td>\n",
       "      <td>False</td>\n",
       "      <td>False</td>\n",
       "      <td>False</td>\n",
       "      <td>1</td>\n",
       "    </tr>\n",
       "    <tr>\n",
       "      <th>460336</th>\n",
       "      <td>28.81</td>\n",
       "      <td>32.56</td>\n",
       "      <td>False</td>\n",
       "      <td>False</td>\n",
       "      <td>False</td>\n",
       "      <td>False</td>\n",
       "      <td>False</td>\n",
       "      <td>False</td>\n",
       "      <td>0</td>\n",
       "    </tr>\n",
       "    <tr>\n",
       "      <th>460337</th>\n",
       "      <td>28.81</td>\n",
       "      <td>32.50</td>\n",
       "      <td>False</td>\n",
       "      <td>False</td>\n",
       "      <td>False</td>\n",
       "      <td>False</td>\n",
       "      <td>False</td>\n",
       "      <td>False</td>\n",
       "      <td>1</td>\n",
       "    </tr>\n",
       "    <tr>\n",
       "      <th>460338</th>\n",
       "      <td>28.81</td>\n",
       "      <td>32.56</td>\n",
       "      <td>False</td>\n",
       "      <td>False</td>\n",
       "      <td>False</td>\n",
       "      <td>False</td>\n",
       "      <td>False</td>\n",
       "      <td>False</td>\n",
       "      <td>0</td>\n",
       "    </tr>\n",
       "    <tr>\n",
       "      <th>460339</th>\n",
       "      <td>28.81</td>\n",
       "      <td>32.50</td>\n",
       "      <td>False</td>\n",
       "      <td>False</td>\n",
       "      <td>False</td>\n",
       "      <td>False</td>\n",
       "      <td>False</td>\n",
       "      <td>False</td>\n",
       "      <td>0</td>\n",
       "    </tr>\n",
       "  </tbody>\n",
       "</table>\n",
       "<p>460340 rows × 9 columns</p>\n",
       "</div>"
      ],
      "text/plain": [
       "         temp  Ambient  Sample_0.35 Nominal  Sample_0.4 Nominal  \\\n",
       "0       29.94    25.00                False               False   \n",
       "1       29.94    27.63                False               False   \n",
       "2       30.00    27.69                False               False   \n",
       "3       30.00    27.75                False               False   \n",
       "4       30.00    27.81                False               False   \n",
       "...       ...      ...                  ...                 ...   \n",
       "460335  28.81    32.56                False               False   \n",
       "460336  28.81    32.56                False               False   \n",
       "460337  28.81    32.50                False               False   \n",
       "460338  28.81    32.56                False               False   \n",
       "460339  28.81    32.50                False               False   \n",
       "\n",
       "        Sample_0.4 Wc+10% Silica  Sample_0.45 Nominal  Sample_0.4Wc+ 10% GGBS  \\\n",
       "0                           True                False                   False   \n",
       "1                           True                False                   False   \n",
       "2                           True                False                   False   \n",
       "3                           True                False                   False   \n",
       "4                           True                False                   False   \n",
       "...                          ...                  ...                     ...   \n",
       "460335                     False                False                   False   \n",
       "460336                     False                False                   False   \n",
       "460337                     False                False                   False   \n",
       "460338                     False                False                   False   \n",
       "460339                     False                False                   False   \n",
       "\n",
       "        Sample_0.4Wc+10% Fly Ash  strength  \n",
       "0                          False         0  \n",
       "1                          False         0  \n",
       "2                          False         0  \n",
       "3                          False         0  \n",
       "4                          False         0  \n",
       "...                          ...       ...  \n",
       "460335                     False         1  \n",
       "460336                     False         0  \n",
       "460337                     False         1  \n",
       "460338                     False         0  \n",
       "460339                     False         0  \n",
       "\n",
       "[460340 rows x 9 columns]"
      ]
     },
     "execution_count": 62,
     "metadata": {},
     "output_type": "execute_result"
    }
   ],
   "source": [
    "df_final_dummies"
   ]
  },
  {
   "cell_type": "code",
   "execution_count": 61,
   "id": "f6055aad-6532-4a58-952e-8643d20dbd3e",
   "metadata": {},
   "outputs": [],
   "source": [
    "df_final_dummies['strength'] = np.random.randint(0, 2, size=len(df_final_dummies))"
   ]
  },
  {
   "cell_type": "code",
   "execution_count": 63,
   "id": "6c6b3c1b-f1f6-40cc-ace8-68e1f833c678",
   "metadata": {},
   "outputs": [
    {
     "name": "stdout",
     "output_type": "stream",
     "text": [
      "Accuracy: 0.5016943997914585\n",
      "Classification Report:\n",
      "               precision    recall  f1-score   support\n",
      "\n",
      "           0       0.50      0.29      0.36     45755\n",
      "           1       0.50      0.71      0.59     46313\n",
      "\n",
      "    accuracy                           0.50     92068\n",
      "   macro avg       0.50      0.50      0.48     92068\n",
      "weighted avg       0.50      0.50      0.48     92068\n",
      "\n"
     ]
    }
   ],
   "source": [
    "import pandas as pd\n",
    "from sklearn.model_selection import train_test_split\n",
    "from sklearn.linear_model import LogisticRegression\n",
    "from sklearn.metrics import classification_report, accuracy_score\n",
    "\n",
    "\n",
    "# Separate features and target\n",
    "X = df_final_dummies.drop('strength', axis=1)  # Features (9 columns)\n",
    "y = df_final_dummies['strength']               # Target column\n",
    "\n",
    "# Split into train and test sets\n",
    "X_train, X_test, y_train, y_test = train_test_split(\n",
    "    X, y, test_size=0.2, random_state=42\n",
    ")\n",
    "\n",
    "# Initialize and train logistic regression model\n",
    "model = LogisticRegression(max_iter=1000)  # Increase max_iter if needed\n",
    "model.fit(X_train, y_train)\n",
    "\n",
    "# Make predictions\n",
    "y_pred = model.predict(X_test)\n",
    "\n",
    "# Evaluate the model\n",
    "print(\"Accuracy:\", accuracy_score(y_test, y_pred))\n",
    "print(\"Classification Report:\\n\", classification_report(y_test, y_pred))\n"
   ]
  },
  {
   "cell_type": "code",
   "execution_count": 65,
   "id": "00aaaf18-077e-4361-9cbf-19b4cf5fca0c",
   "metadata": {},
   "outputs": [
    {
     "data": {
      "text/plain": [
       "['logistic_model.pkl']"
      ]
     },
     "execution_count": 65,
     "metadata": {},
     "output_type": "execute_result"
    }
   ],
   "source": [
    "import joblib\n",
    "joblib.dump(model, 'logistic_model.pkl')"
   ]
  },
  {
   "cell_type": "code",
   "execution_count": 66,
   "id": "252401ac-234f-4936-849b-41e0320fa7bf",
   "metadata": {},
   "outputs": [
    {
     "data": {
      "text/plain": [
       "Index(['temp', 'Ambient', 'Sample_0.35 Nominal', 'Sample_0.4 Nominal',\n",
       "       'Sample_0.4 Wc+10% Silica', 'Sample_0.45 Nominal',\n",
       "       'Sample_0.4Wc+ 10% GGBS', 'Sample_0.4Wc+10% Fly Ash', 'strength'],\n",
       "      dtype='object')"
      ]
     },
     "execution_count": 66,
     "metadata": {},
     "output_type": "execute_result"
    }
   ],
   "source": [
    "df_final_dummies.columns"
   ]
  },
  {
   "cell_type": "code",
   "execution_count": 67,
   "id": "cf7bfccb-81c8-4405-a4f2-9e678a516235",
   "metadata": {},
   "outputs": [],
   "source": [
    "expected_col=['temp', 'Ambient', 'Sample_0.35 Nominal', 'Sample_0.4 Nominal',\n",
    "       'Sample_0.4 Wc+10% Silica', 'Sample_0.45 Nominal',\n",
    "       'Sample_0.4Wc+ 10% GGBS', 'Sample_0.4Wc+10% Fly Ash']"
   ]
  },
  {
   "cell_type": "code",
   "execution_count": 68,
   "id": "8a7e9793-9719-46a5-aaf2-29daa40a5572",
   "metadata": {},
   "outputs": [],
   "source": [
    "model = joblib.load('logistic_model.pkl')"
   ]
  },
  {
   "cell_type": "code",
   "execution_count": 107,
   "id": "ec66f2e4-f100-42b8-b175-c546768c274f",
   "metadata": {},
   "outputs": [],
   "source": [
    "new_data={\n",
    "    'temp':[29.94],\n",
    "    'Ambient':[25],\n",
    "    'Sample_0.35 Nominal':[False],\n",
    "    'Sample_0.4 Nominal': [False],\n",
    "    'Sample_0.4 Wc+10% Silica':[False],\n",
    "    'Sample_0.45 Nominal':[False],\n",
    "    'Sample_0.4Wc+ 10% GGBS':[False],\n",
    "    'Sample_0.4Wc+10% Fly Ash':[False]\n",
    "    \n",
    "}\n",
    "# df_test=pd.DataFrame(new_data)\n",
    "# df_test"
   ]
  },
  {
   "cell_type": "code",
   "execution_count": 108,
   "id": "646b484c-30b3-4043-be39-fe10f77d39b6",
   "metadata": {},
   "outputs": [],
   "source": [
    "col='Sample_0.30 Nominal'\n",
    "if col in list(new_data.keys()):\n",
    "    print(0)\n",
    "    new_data[col]=[True]"
   ]
  },
  {
   "cell_type": "code",
   "execution_count": 109,
   "id": "6ed0d944-e304-432c-a69a-86a777c43952",
   "metadata": {},
   "outputs": [
    {
     "data": {
      "text/plain": [
       "{'temp': [29.94],\n",
       " 'Ambient': [25],\n",
       " 'Sample_0.35 Nominal': [False],\n",
       " 'Sample_0.4 Nominal': [False],\n",
       " 'Sample_0.4 Wc+10% Silica': [False],\n",
       " 'Sample_0.45 Nominal': [False],\n",
       " 'Sample_0.4Wc+ 10% GGBS': [False],\n",
       " 'Sample_0.4Wc+10% Fly Ash': [False]}"
      ]
     },
     "execution_count": 109,
     "metadata": {},
     "output_type": "execute_result"
    }
   ],
   "source": [
    "new_data"
   ]
  },
  {
   "cell_type": "code",
   "execution_count": 111,
   "id": "0887e3e1-fbdd-432e-854e-a5b1ad38b6e7",
   "metadata": {},
   "outputs": [],
   "source": [
    "df_to_pricict=pd.DataFrame(new_data)"
   ]
  },
  {
   "cell_type": "code",
   "execution_count": 112,
   "id": "bb2700b3-2ca3-4ab9-baac-4557c90bcb0b",
   "metadata": {},
   "outputs": [
    {
     "data": {
      "text/plain": [
       "array([0])"
      ]
     },
     "execution_count": 112,
     "metadata": {},
     "output_type": "execute_result"
    }
   ],
   "source": [
    "model.predict(df_to_pricict)"
   ]
  },
  {
   "cell_type": "code",
   "execution_count": null,
   "id": "6c67b1cd-a9d5-4c2b-b230-33ef03289e20",
   "metadata": {},
   "outputs": [],
   "source": []
  }
 ],
 "metadata": {
  "kernelspec": {
   "display_name": "Python 3 (ipykernel)",
   "language": "python",
   "name": "python3"
  },
  "language_info": {
   "codemirror_mode": {
    "name": "ipython",
    "version": 3
   },
   "file_extension": ".py",
   "mimetype": "text/x-python",
   "name": "python",
   "nbconvert_exporter": "python",
   "pygments_lexer": "ipython3",
   "version": "3.12.5"
  }
 },
 "nbformat": 4,
 "nbformat_minor": 5
}
